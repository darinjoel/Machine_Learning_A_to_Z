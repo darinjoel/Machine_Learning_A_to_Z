{
 "cells": [
  {
   "cell_type": "markdown",
   "metadata": {},
   "source": [
    "## Setup"
   ]
  },
  {
   "cell_type": "code",
   "execution_count": 3,
   "metadata": {},
   "outputs": [],
   "source": [
    "# Importing the libraries\n",
    "import numpy as np\n",
    "import matplotlib.pyplot as plt\n",
    "import pandas as pd\n",
    "\n"
   ]
  },
  {
   "cell_type": "code",
   "execution_count": 4,
   "metadata": {},
   "outputs": [
    {
     "data": {
      "text/plain": [
       "\"## Import Dataset\\n\\n# Importing the dataset\\ndataset = pd.read_csv('50_startups.csv')\\nX = dataset.iloc[:, :-1].values\\ny = dataset.iloc[:, 4].values\""
      ]
     },
     "execution_count": 4,
     "metadata": {},
     "output_type": "execute_result"
    }
   ],
   "source": [
    "'''## Import Dataset\n",
    "\n",
    "# Importing the dataset\n",
    "dataset = pd.read_csv('50_startups.csv')\n",
    "X = dataset.iloc[:, :-1].values\n",
    "y = dataset.iloc[:, 4].values'''"
   ]
  },
  {
   "cell_type": "code",
   "execution_count": 5,
   "metadata": {},
   "outputs": [
    {
     "data": {
      "text/plain": [
       "'## Prepare the data\\n\\n# Encoding categorical data\\n# Encoding the Independent Variable\\n\\nfrom sklearn.preprocessing import LabelEncoder, OneHotEncoder\\nlabelencoder_X = LabelEncoder()\\nX[:, 3] = labelencoder_X.fit_transform(X[:, 3])\\nonehotencoder = OneHotEncoder(categorical_features = [3])\\nX = onehotencoder.fit_transform(X).toarray()\\n\\n## Take out dummy variable\\n\\nX = X[:, 1:]\\nXX = X # Preserving this so I can compare models at the end\\n\\n# Splitting the dataset into the Training set and Test set\\nfrom sklearn.model_selection import train_test_split\\nX_train, X_test, y_train, y_test = train_test_split(X, y, test_size = 0.2, random_state = 0)'"
      ]
     },
     "execution_count": 5,
     "metadata": {},
     "output_type": "execute_result"
    }
   ],
   "source": [
    "'''## Prepare the data\n",
    "\n",
    "# Encoding categorical data\n",
    "# Encoding the Independent Variable\n",
    "\n",
    "from sklearn.preprocessing import LabelEncoder, OneHotEncoder\n",
    "labelencoder_X = LabelEncoder()\n",
    "X[:, 3] = labelencoder_X.fit_transform(X[:, 3])\n",
    "onehotencoder = OneHotEncoder(categorical_features = [3])\n",
    "X = onehotencoder.fit_transform(X).toarray()\n",
    "\n",
    "## Take out dummy variable\n",
    "\n",
    "X = X[:, 1:]\n",
    "XX = X # Preserving this so I can compare models at the end\n",
    "\n",
    "# Splitting the dataset into the Training set and Test set\n",
    "from sklearn.model_selection import train_test_split\n",
    "X_train, X_test, y_train, y_test = train_test_split(X, y, test_size = 0.2, random_state = 0)'''"
   ]
  },
  {
   "cell_type": "code",
   "execution_count": 32,
   "metadata": {},
   "outputs": [],
   "source": [
    "class regressor_SKL(object):\n",
    "\n",
    "    def __init__(self, data, opt_index):\n",
    "        from sklearn.preprocessing import LabelEncoder, OneHotEncoder\n",
    "        from sklearn.model_selection import train_test_split\n",
    "        self.dataset = pd.read_csv(data)\n",
    "        self.X = self.dataset.iloc[:, :-1].values\n",
    "        self.y = self.dataset.iloc[:, 4].values\n",
    "        \n",
    "        self.labelencoder_X = LabelEncoder()\n",
    "        self.X[:, 3] = self.labelencoder_X.fit_transform(self.X[:, 3])\n",
    "        self.onehotencoder = OneHotEncoder(categorical_features = [3])\n",
    "\n",
    "        \n",
    "        self.X = self.onehotencoder.fit_transform(self.X).toarray()\n",
    "        self.X = self.X[:, 1:]\n",
    "        self.X = self.X[:, opt_index]\n",
    "        self.X_train, self.X_test, self.y_train, self.y_test = train_test_split(self.X, self.y, test_size = 0.2, random_state = 0)\n",
    "        \n",
    "        from sklearn.linear_model import LinearRegression\n",
    "        self.regressor = LinearRegression()\n",
    "        self.regressor.fit(self.X_train, self.y_train)\n",
    "        self.y_pred = self.regressor.predict(self.X_test)\n",
    "        "
   ]
  },
  {
   "cell_type": "code",
   "execution_count": 40,
   "metadata": {},
   "outputs": [
    {
     "data": {
      "image/png": "[encoded data removed]",
      "text/plain": [
       "<Figure size 432x288 with 1 Axes>"
      ]
     },
     "metadata": {},
     "output_type": "display_data"
    }
   ],
   "source": [
    "data = '50_startups.csv'\n",
    "idx = [0,1,2,3]\n",
    "non_opt = regressor_SKL(data, idx)\n",
    "plt.scatter(non_opt.y_test, non_opt.y_pred)\n",
    "plt.show()\n"
   ]
  },
  {
   "cell_type": "code",
   "execution_count": 8,
   "metadata": {},
   "outputs": [
    {
     "data": {
      "text/plain": [
       "\"\\nplt.scatter(non_opt.y_test, non_opt.y_pred, color='red')\\nplt.show()\\n\""
      ]
     },
     "execution_count": 8,
     "metadata": {},
     "output_type": "execute_result"
    }
   ],
   "source": [
    "'''\n",
    "plt.scatter(non_opt.y_test, non_opt.y_pred, color='red')\n",
    "plt.show()\n",
    "'''"
   ]
  },
  {
   "cell_type": "code",
   "execution_count": 59,
   "metadata": {},
   "outputs": [],
   "source": [
    "class optimized_MLS(object):\n",
    "    def __init__(self, data, init_index, sig_level):\n",
    "        from sklearn.preprocessing import LabelEncoder, OneHotEncoder\n",
    "        from sklearn.model_selection import train_test_split\n",
    "        self.data = data\n",
    "        self.dataset = pd.read_csv(self.data) # read data\n",
    "        self.X = self.dataset.iloc[:, :-1].values # matrix of ind var\n",
    "        self.y = self.dataset.iloc[:, 4].values    # matrix of dep var\n",
    "        self.init_index = init_index \n",
    "        self.labelencoder_X = LabelEncoder() # set up label encoder object for encoding cat var\n",
    "        self.X[:, 3] = self.labelencoder_X.fit_transform(self.X[:, 3]) # set cat var col to index 3\n",
    "        self.onehotencoder = OneHotEncoder(categorical_features = [3]) # one hot encode col 3\n",
    "        self.X = self.onehotencoder.fit_transform(self.X).toarray() # finish on hot encode\n",
    "        self.X = self.X[:, 1:] # remove Nth dummy variable (leave N-1 total)\n",
    "        self.X_train, self.X_test, self.y_train, self.y_test = \\\n",
    "        train_test_split(self.X, self.y, test_size = 0.2, random_state = 0) ## split data in to train/test\n",
    "        \n",
    "        import statsmodels.formula.api as sm\n",
    "        self.X = np.append(arr = np.ones((50,1)).astype(int), values = self.X, axis = 1) # add col of ones to beginning of ind \n",
    "        # var matrix\n",
    "        self.X_opt = self.X[:, self.init_index] # initialize X_opt with initial col of zeros, N-1 dummy var, and rest of ind var\n",
    "        \n",
    "\n",
    "        self.numVar = len(self.X_opt[0]) # determine number of ind vars for looping\n",
    "\n",
    "\n",
    "\n",
    "## Loop over all variables, compute OLS and iteratively do backward elimination, resulting in data cols to be used for opt model\n",
    "        for j in range(self.numVar):\n",
    "\n",
    "            self.regressor_OLS = sm.OLS(endog = self.y, exog = self.X_opt).fit()\n",
    "            PVAL = self.regressor_OLS.pvalues\n",
    "            temp_PV = max(PVAL).astype(float)\n",
    "            if j == 0:\n",
    "                print(f'Max P val before optimization is: {temp_PV}')\n",
    "\n",
    "            if temp_PV >= sig_level:\n",
    "                for i in range(len(PVAL)):\n",
    "                    if PVAL[i] == temp_PV:\n",
    "                        self.X_opt = np.delete(self.X_opt, i, 1)                    \n",
    "                        self.init_index = np.delete(self.init_index,i)\n",
    "            \n",
    "        print(f'Max Pval after optimization is: {temp_PV}')\n",
    "        print(self.regressor_OLS.summary())\n",
    "\n",
    "        \n",
    "\n",
    "        # remove index of 1's col, re index init_index to correpond to matrix for sci-kit learn regressor\n",
    "        for i in range(len(self.init_index)):\n",
    "            self.init_index[i] = self.init_index[i] -1\n",
    "        self.init_index = self.init_index[1:]\n",
    "        # call sci-kit learn regression model for optimal variables\n",
    "        self.opt_model = regressor_SKL(self.data, self.init_index)\n",
    "        print(f'passed index is {self.init_index}')\n",
    "        \n"
   ]
  },
  {
   "cell_type": "code",
   "execution_count": 60,
   "metadata": {
    "scrolled": true
   },
   "outputs": [
    {
     "name": "stdout",
     "output_type": "stream",
     "text": [
      "Max P val before optimization is: 0.9897941241608164\n",
      "Max Pval after optimization is: 2.7826969229653594e-24\n",
      "                            OLS Regression Results                            \n",
      "==============================================================================\n",
      "Dep. Variable:                      y   R-squared:                       0.947\n",
      "Model:                            OLS   Adj. R-squared:                  0.945\n",
      "Method:                 Least Squares   F-statistic:                     849.8\n",
      "Date:                Mon, 25 Jun 2018   Prob (F-statistic):           3.50e-32\n",
      "Time:                        11:40:25   Log-Likelihood:                -527.44\n",
      "No. Observations:                  50   AIC:                             1059.\n",
      "Df Residuals:                      48   BIC:                             1063.\n",
      "Df Model:                           1                                         \n",
      "Covariance Type:            nonrobust                                         \n",
      "==============================================================================\n",
      "                 coef    std err          t      P>|t|      [0.025      0.975]\n",
      "------------------------------------------------------------------------------\n",
      "const       4.903e+04   2537.897     19.320      0.000    4.39e+04    5.41e+04\n",
      "x1             0.8543      0.029     29.151      0.000       0.795       0.913\n",
      "==============================================================================\n",
      "Omnibus:                       13.727   Durbin-Watson:                   1.116\n",
      "Prob(Omnibus):                  0.001   Jarque-Bera (JB):               18.536\n",
      "Skew:                          -0.911   Prob(JB):                     9.44e-05\n",
      "Kurtosis:                       5.361   Cond. No.                     1.65e+05\n",
      "==============================================================================\n",
      "\n",
      "Warnings:\n",
      "[1] Standard Errors assume that the covariance matrix of the errors is correctly specified.\n",
      "[2] The condition number is large, 1.65e+05. This might indicate that there are\n",
      "strong multicollinearity or other numerical problems.\n",
      "passed index is [2]\n"
     ]
    },
    {
     "data": {
      "image/png": "[encoded data removed]",
      "text/plain": [
       "<Figure size 432x288 with 1 Axes>"
      ]
     },
     "metadata": {},
     "output_type": "display_data"
    }
   ],
   "source": [
    "data = '50_startups.csv'\n",
    "idx2 = [0,1,2,3,4,5]  ## First val is intercept, next items are numDummyVars - 1, next are remaining dependent variables\n",
    "sl = 0.05 ## significance level\n",
    "\n",
    "zidane = optimized_MLS(data, idx2, sl)\n",
    "plt.scatter(zidane.opt_model.y_pred, zidane.opt_model.y_test)\n",
    "plt.show()"
   ]
  },
  {
   "cell_type": "code",
   "execution_count": 52,
   "metadata": {},
   "outputs": [
    {
     "name": "stdout",
     "output_type": "stream",
     "text": [
      "[0, 1, 2, 3, 4]\n",
      "[1, 2, 3, 4]\n"
     ]
    }
   ],
   "source": [
    "a = [1,2,3,4,5]\n",
    "for i in range(len(a)):\n",
    "    a[i] = a[i] -1\n",
    "b = a[1:]   \n",
    "print(a)\n",
    "print(b)"
   ]
  }
 ],
 "metadata": {
  "kernelspec": {
   "display_name": "Python 3",
   "language": "python",
   "name": "python3"
  },
  "language_info": {
   "codemirror_mode": {
    "name": "ipython",
    "version": 3
   },
   "file_extension": ".py",
   "mimetype": "text/x-python",
   "name": "python",
   "nbconvert_exporter": "python",
   "pygments_lexer": "ipython3",
   "version": "3.6.5"
  }
 },
 "nbformat": 4,
 "nbformat_minor": 2
}
